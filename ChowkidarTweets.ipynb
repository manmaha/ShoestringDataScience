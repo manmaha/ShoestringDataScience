{
 "cells": [
  {
   "cell_type": "markdown",
   "metadata": {},
   "source": [
    "# Data Science on a ShoeString - 1\n",
    "\n",
    "# Simple Data Analysis using Twitter"
   ]
  },
  {
   "cell_type": "markdown",
   "metadata": {},
   "source": [
    "## Set up Twitter for Python"
   ]
  },
  {
   "cell_type": "code",
   "execution_count": 1,
   "metadata": {},
   "outputs": [],
   "source": [
    "import tweepy\n",
    "import sys\n",
    "\n",
    "# These API keys are obtained when you register your Twitter account as a developer\n",
    "# you need to obtain the authorisation and then paste these keys here\n",
    "\n",
    "apiKey = 'Replace with your key'\n",
    "apiSecret = 'Replace with your Secret'\n",
    "accessToken = 'Replace with your access token'\n",
    "accessTokenSecret = 'Replace with your Secret'\n",
    "# \n",
    "auth = tweepy.OAuthHandler(apiKey, apiSecret)\n",
    "auth.set_access_token(accessToken, accessTokenSecret)\n",
    "\n",
    "api = tweepy.API(auth)"
   ]
  },
  {
   "cell_type": "markdown",
   "metadata": {},
   "source": [
    "## Kitne Chowkidar Hain\n",
    "\n",
    "Get a list of active chowkidars from Twitter\n",
    "\n",
    "The Twitter api does not allow us to retrieve more than 1020 (20 users per page and 51 pages in total)"
   ]
  },
  {
   "cell_type": "code",
   "execution_count": 2,
   "metadata": {},
   "outputs": [
    {
     "data": {
      "text/plain": [
       "1019"
      ]
     },
     "execution_count": 2,
     "metadata": {},
     "output_type": "execute_result"
    }
   ],
   "source": [
    "query = '\"chowkidar\"'\n",
    "chowkidars =[]\n",
    "for page in range(1,52):\n",
    "    chowkidars+=api.search_users(query,20,page)\n"
   ]
  },
  {
   "cell_type": "markdown",
   "metadata": {},
   "source": [
    "### Collect their last 20 tweets"
   ]
  },
  {
   "cell_type": "code",
   "execution_count": null,
   "metadata": {},
   "outputs": [],
   "source": [
    "#This will take quite some time\n"
   ]
  },
  {
   "cell_type": "code",
   "execution_count": 11,
   "metadata": {},
   "outputs": [
    {
     "data": {
      "text/plain": [
       "17937"
      ]
     },
     "execution_count": 11,
     "metadata": {},
     "output_type": "execute_result"
    }
   ],
   "source": [
    "tweets = []\n",
    "for steps in range(0,1000,100):\n",
    "    for user in chowkidars[steps:steps+100]:\n",
    "        try:\n",
    "            tweets+= [t.text for t in  api.user_timeline(user.id)]\n",
    "        except:\n",
    "            pass\n",
    "for user in chowkidars[1000:len(chowkidars)]:\n",
    "        try:\n",
    "            tweets+= [t.text for t in  api.user_timeline(user.id)]\n",
    "        except:\n",
    "            pass\n"
   ]
  },
  {
   "cell_type": "code",
   "execution_count": 46,
   "metadata": {},
   "outputs": [],
   "source": [
    "total_chowkidars = len(chowkidars)   \n",
    "total_tweets = len(tweets)"
   ]
  },
  {
   "cell_type": "code",
   "execution_count": 80,
   "metadata": {},
   "outputs": [
    {
     "name": "stdout",
     "output_type": "stream",
     "text": [
      "I was able to extract 1019 Chowkidars most active on Twitter in the last few days\n",
      "\n",
      "Top 10 Twitter Handles are:\n",
      "\n",
      "SanjayTandonBJP\n",
      "pratiba_sk\n",
      "roopnayandarak\n",
      "narendramodi\n",
      "SushmaSwaraj\n",
      "AmitShah\n",
      "KapilMishra_IND\n",
      "ProfSRK\n",
      "M_Lekhi\n",
      "arunjaitley\n",
      "\n",
      "31.45% of 17937 Chowkidar Tweets extracted are in Devnagri\n",
      "\n",
      "I queried for Tweets containing Nehru,Indira,Rajiv,Jawaharlal and Bofors\n",
      "\n",
      "\n",
      "2.95% of 17937 Chowkidar Tweets refer to dead Nehru-Gandhis\n"
     ]
    }
   ],
   "source": [
    "import pandas as pd\n",
    "df = pd.DataFrame(tweets, columns=['text'])\n",
    "nehruvianQuery = 'Nehru|Rajiv|Jwahar[lal]| Jawahr[lal]|Indira|Jawahar[lal]|Bofors|Bofars|जवाहरलाल|नेहरु|राजीव|इन्दिरा|इन्दीरा'\n",
    "nehruvianTweets = df['text'].str.contains(nehruvianQuery,case=False, regex=True).value_counts()\n",
    "\n",
    "#lets check the number of Devnagri Tweets, query2 is the unicode list of the devnagri language\n",
    "devnagriQuery = '[\\u0900-\\u097F]'\n",
    "devnagri= df['text'].str.contains(devnagriQuery,case=False, regex=True).value_counts()\n",
    "\n",
    "#Lets do some reporting\n",
    "print(\"I was able to extract {:d} Chowkidars most active on Twitter in the last few days\\n\".format(total_chowkidars))\n",
    "print(\"Top 10 Twitter Handles are:\\n\")\n",
    "for user in chowkidars[0:10]:\n",
    "      print(user.screen_name)\n",
    "print(\"\\n{:.2f}% of {:d} Chowkidar Tweets extracted are in Devnagri\".format(devnagri[1]/total_tweets*100,total_tweets))\n",
    "print(\"\\nI queried for Tweets containing Nehru,Indira,Rajiv,Jawaharlal and Bofors\\n\")\n",
    "print(\"\\n{:.2f}% of {:d} Chowkidar Tweets refer to dead Nehru-Gandhis\".format(nehruvianTweets[1]/total_tweets*100,total_tweets))\n"
   ]
  },
  {
   "cell_type": "code",
   "execution_count": 81,
   "metadata": {},
   "outputs": [
    {
     "data": {
      "text/plain": [
       "402      RT @News18India: #HTP क्या चुनावी राजनीति में ...\n",
       "403      RT @News18India: #HTP क्या चुनावी राजनीति में ...\n",
       "404      RT @News18India: #HTP क्या चुनावी राजनीति में ...\n",
       "409      RT @News18India: #HTP क्या चुनावी राजनीति में ...\n",
       "410      RT @News18India: #HTP क्या चुनावी राजनीति में ...\n",
       "411      RT @News18India: #HTP क्या चुनावी राजनीति में ...\n",
       "482      RT @MODIfiedVikas: आप सभी अधिवक्ता बंधुओं से प...\n",
       "701      RT @BJP4India: मैंने पहले भी यह कहा था और फिर ...\n",
       "702      RT @NavbharatTimes: एक्सक्लूसिव इंटरव्यू: राजी...\n",
       "726      आज तक राहुल गांधी या राजीव गांधी का नाम रक्षा ...\n",
       "732      राजीव गाँधी के बारे में मोदी जी ने सच्चाई बताई...\n",
       "1066     RT @NavbharatTimes: एक्सक्लूसिव इंटरव्यू: राजी...\n",
       "1087     Open challenge by PM @narendramodi - \"दम है तो...\n",
       "1579     RT @NavbharatTimes: एक्सक्लूसिव इंटरव्यू: राजी...\n",
       "1680     RT @aajtak: क्या पीएम मोदी ने राजीव गांधी का ज...\n",
       "2040     मैंने तो राजीव गांधी के बारे में एक फैक्ट ही क...\n",
       "2085     एक्सक्लूसिव इंटरव्यू: राजीव गांधी विवाद पर पीए...\n",
       "2309     RT @vineet_24: #Signed\\n1977 के मिशिगन डेली ना...\n",
       "2353     RT @ModiBharosa: कौन है ज्यादा क्रूर?\\n\\nजनरल ...\n",
       "2746     RT @MODIfiedVikas: आप सभी अधिवक्ता बंधुओं से प...\n",
       "2799     राजीव गांधी विवाद पर पीएम मोदी, मैंने तो एक फै...\n",
       "3032     RT @NavbharatTimes: एक्सक्लूसिव इंटरव्यू: राजी...\n",
       "3082     RT @NavbharatTimes: एक्सक्लूसिव इंटरव्यू: राजी...\n",
       "3138     राहुल गांधी देश की जनता को बताएं कि राजीव गांध...\n",
       "3265     RT @NavbharatTimes: एक्सक्लूसिव इंटरव्यू: राजी...\n",
       "3310     RT @NavbharatTimes: एक्सक्लूसिव इंटरव्यू: राजी...\n",
       "3377     RT @NavbharatTimes: एक्सक्लूसिव इंटरव्यू: राजी...\n",
       "3604     जिस pidi का TL देखो बस Thread पे thread लिख रह...\n",
       "3687     मैडम, मोदी सपोर्टर तो छोड़िए, कट्टर कांग्रेसी ...\n",
       "3847     RT @BJP4India: मैंने पहले भी यह कहा था और फिर ...\n",
       "                               ...                        \n",
       "10921    RT @BJP4India: मैंने पहले भी यह कहा था और फिर ...\n",
       "10935    RT @BJP4India: आज तक राहुल गांधी या राजीव गांध...\n",
       "10977    RT @MODIfiedVikas: आप सभी अधिवक्ता बंधुओं से प...\n",
       "11783    RT @ModiRajesh4: @Pradeep28703599 श्रीराम वंदन...\n",
       "12222    RT @Iamnot_Immortal: भ्रष्टाचारी नंबर 1 राजीव ...\n",
       "12226    RT @amitmalviya: Cheerleaders of ‘राजीव गांधी ...\n",
       "12259    मैंने तो राजीव गांधी के बारे में एक फैक्ट ही क...\n",
       "12444    RT @BJP4India: मैंने पहले भी यह कहा था और फिर ...\n",
       "12956    RT @AshwiniBJP: मैडम, मोदी सपोर्टर तो छोड़िए, ...\n",
       "14058    RT @Punitspeaks: राजीव गांधी कहते थे 1 रूपैया ...\n",
       "14135    दद्दाजीकहिन:\\n#लिट्टे....इंदिरा की देन\\nऔर इन्...\n",
       "14538    RT @upadhyaysbjp: राजीव गांधी विवाद पर पीएम श्...\n",
       "14838    RT @BJP4India: ऐसा कोई वीडियो किसी नामदार के न...\n",
       "16151    RT @JKS2019: दादी देश पे इमरजेंसी लगायी\\nपोती-...\n",
       "16306    RT @drharshvardhan: राहुल गांधी देश की जनता को...\n",
       "16493    RT @upadhyaysbjp: राजीव गांधी विवाद पर पीएम श्...\n",
       "17053    RT @RaiSahab20: सही कहा @priyankagandhi इंदिरा...\n",
       "17064    जब बात राजीव की आए, \\n\\nपप्पू का वाड्रा घबराए,...\n",
       "17200    RT @vineet_24: #Signed\\n1977 के मिशिगन डेली ना...\n",
       "17302    RT @godoftrolls1: बहुत से ग्यानी लोग आ गए हैं ...\n",
       "17383    RT @RadhikaChatter5: @ashutosh83B @AamAadmiPar...\n",
       "17428    RT @AnimaSonkar: अगर #राजीवगांधी को चोर कहना ग...\n",
       "17559    RT @MODIfiedVikas: आप सभी अधिवक्ता बंधुओं से प...\n",
       "17569    RT @mssirsa: हज़ारों सिखों को मारने वाले को शह...\n",
       "17583    RT @bittusempire: इन्दिरा और राजीव अपने कर्मों...\n",
       "17591    RT @VashishthaRadha: @DrGPradhan नेहरू गांधी प...\n",
       "17638    RT @aakash__agarwal: \"भारत रत्न\" का \\nइतने साल...\n",
       "17715    अगर भ्रष्टाचारी को भ्रष्टाचारी कहना ग़लत है तो...\n",
       "17860    RT @PiyushGoyalOffc: राजीव गांधी बोलते थे कि म...\n",
       "17901    RT @JKS2019: दादी देश पे इमरजेंसी लगायी\\nपोती-...\n",
       "Name: text, Length: 92, dtype: object"
      ]
     },
     "execution_count": 81,
     "metadata": {},
     "output_type": "execute_result"
    }
   ],
   "source": [
    "#Lets check if we're picking up the right devnagri tweets, first time working with devnagri text\n",
    "devnagriNehruQuery = 'जवाहरलाल|नेहरु|राजीव|इन्दिरा|इन्दीरा'\n",
    "devnagriNehruvianTweets = df['text'].str.contains(devnagriNehruQuery,case=False, regex=True).value_counts()\n",
    "d = df['text'].str.contains(query,case=False, regex=True)\n",
    "df['text'][d==True]"
   ]
  },
  {
   "cell_type": "code",
   "execution_count": null,
   "metadata": {},
   "outputs": [],
   "source": []
  },
  {
   "cell_type": "code",
   "execution_count": null,
   "metadata": {},
   "outputs": [],
   "source": []
  },
  {
   "cell_type": "code",
   "execution_count": 40,
   "metadata": {},
   "outputs": [],
   "source": []
  },
  {
   "cell_type": "code",
   "execution_count": null,
   "metadata": {},
   "outputs": [],
   "source": []
  },
  {
   "cell_type": "code",
   "execution_count": 65,
   "metadata": {},
   "outputs": [],
   "source": []
  },
  {
   "cell_type": "code",
   "execution_count": null,
   "metadata": {},
   "outputs": [],
   "source": []
  }
 ],
 "metadata": {
  "kernelspec": {
   "display_name": "Python 3",
   "language": "python",
   "name": "python3"
  },
  "language_info": {
   "codemirror_mode": {
    "name": "ipython",
    "version": 3
   },
   "file_extension": ".py",
   "mimetype": "text/x-python",
   "name": "python",
   "nbconvert_exporter": "python",
   "pygments_lexer": "ipython3",
   "version": "3.7.0"
  }
 },
 "nbformat": 4,
 "nbformat_minor": 2
}
